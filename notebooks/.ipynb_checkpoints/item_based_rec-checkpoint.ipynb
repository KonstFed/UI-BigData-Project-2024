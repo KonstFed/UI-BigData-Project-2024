{
 "cells": [
  {
   "cell_type": "markdown",
   "id": "7fb2433e-42bd-4ad1-ab36-9413b9a086fa",
   "metadata": {},
   "source": [
    "### Imports"
   ]
  },
  {
   "cell_type": "code",
   "execution_count": 15,
   "id": "8a05677d-fd4e-4245-9fa6-e8d9e50126df",
   "metadata": {},
   "outputs": [],
   "source": [
    "import numpy as np\n",
    "\n",
    "from pyspark.sql import SparkSession\n",
    "from pyspark.sql.functions import udf, col, avg, count, array, array_contains, row_number, size\n",
    "from pyspark.sql import functions as F\n",
    "from pyspark.sql.types import StructType, StructField, StringType, IntegerType, ArrayType, FloatType\n",
    "from pyspark.sql.window import Window\n",
    "from pyspark.ml import Pipeline\n",
    "from pyspark.ml.feature import VectorAssembler\n",
    "from pyspark.mllib.evaluation import RankingMetrics"
   ]
  },
  {
   "cell_type": "markdown",
   "id": "704581b4-c1f1-4504-bda1-f6c58ad2941b",
   "metadata": {},
   "source": [
    "## Setup"
   ]
  },
  {
   "cell_type": "markdown",
   "id": "27e08ccb-e0f7-47bc-8875-540c539953b6",
   "metadata": {},
   "source": [
    "### Load spark data"
   ]
  },
  {
   "cell_type": "code",
   "execution_count": 16,
   "id": "cf4f7704-89fc-4fb7-8db5-efc5b1280c3b",
   "metadata": {},
   "outputs": [
    {
     "data": {
      "text/plain": [
       "DataFrame[]"
      ]
     },
     "execution_count": 16,
     "metadata": {},
     "output_type": "execute_result"
    }
   ],
   "source": [
    "try:\n",
    "    spark.stop()\n",
    "except:\n",
    "    print('No spark is running')\n",
    "\n",
    "warehouse = \"/user/team20/project/hive/warehouse\"\n",
    "team = \"team20\"\n",
    "\n",
    "spark = SparkSession.builder\\\n",
    "        .appName(\"{} - spark ML\".format(team))\\\n",
    "        .master(\"yarn\")\\\n",
    "        .config(\"hive.metastore.uris\", \"thrift://hadoop-02.uni.innopolis.ru:9883\")\\\n",
    "        .config(\"spark.sql.warehouse.dir\", warehouse)\\\n",
    "        .config(\"spark.sql.avro.compression.codec\", \"snappy\")\\\n",
    "        .enableHiveSupport()\\\n",
    "        .getOrCreate()\n",
    "spark.sql(\"USE team20_projectdb\")"
   ]
  },
  {
   "cell_type": "markdown",
   "id": "e54bb795-0e1e-4aab-ae37-402e89761ca1",
   "metadata": {},
   "source": [
    "## Train"
   ]
  },
  {
   "cell_type": "code",
   "execution_count": 17,
   "id": "e8c06df2-ab0e-4c2e-a76e-1a96ba3d3a1b",
   "metadata": {},
   "outputs": [
    {
     "name": "stdout",
     "output_type": "stream",
     "text": [
      "+--------+--------------------+\n",
      "|anime_id|        synopsis_emb|\n",
      "+--------+--------------------+\n",
      "|   54252|[0.030607548, 0.0...|\n",
      "|   52976|[-0.06079528, 0.0...|\n",
      "|   51595|[0.04106808, 0.06...|\n",
      "|   51048|[-0.07514876, 0.0...|\n",
      "|   50953|[-0.07117992, 0.0...|\n",
      "+--------+--------------------+\n",
      "only showing top 5 rows\n",
      "\n"
     ]
    }
   ],
   "source": [
    "# read synopsis embeddings\n",
    "schema = StructType([\n",
    "    StructField('anime_id',\n",
    "                IntegerType(), False),\n",
    "    StructField('synopsis_emb_str',\n",
    "                StringType(), False)\n",
    "])\n",
    "synopsis_df = spark.read.csv(\n",
    "    \"/user/team20/project/data/synopsis_embs.csv\", \n",
    "    header=True, \n",
    "    mode=\"DROPMALFORMED\",\n",
    "    schema=schema\n",
    ")\n",
    "\n",
    "\n",
    "def read_embedding(emb: str):\n",
    "    emb = [float(i) for i in emb[1:-1].split(', ')]\n",
    "    return emb\n",
    "\n",
    "\n",
    "read_embedding_udf = udf(read_embedding, ArrayType(FloatType()))\n",
    "\n",
    "synopsis_df = synopsis_df.withColumn('synopsis_emb', read_embedding_udf(synopsis_df['synopsis_emb_str']))\n",
    "synopsis_df = synopsis_df.drop('synopsis_emb_str')\n",
    "synopsis_df.show(5)"
   ]
  },
  {
   "cell_type": "code",
   "execution_count": 18,
   "id": "1d5927e4-de24-43a3-a9cf-11bc8b29d786",
   "metadata": {},
   "outputs": [
    {
     "name": "stdout",
     "output_type": "stream",
     "text": [
      "+-------+--------+------+\n",
      "|user_id|anime_id|rating|\n",
      "+-------+--------+------+\n",
      "|      1|     576|     6|\n",
      "|      1|     570|     8|\n",
      "|      1|     565|     8|\n",
      "|      1|     558|     8|\n",
      "|      1|     523|     8|\n",
      "+-------+--------+------+\n",
      "only showing top 5 rows\n",
      "\n"
     ]
    }
   ],
   "source": [
    "# read train user_scores\n",
    "scores_df = spark.read.json(\"/user/team20/project/data/train.json\")\n",
    "scores_df = scores_df.select(\n",
    "    scores_df[\"user_id\"].cast(IntegerType()),\n",
    "    scores_df[\"anime_id\"].cast(IntegerType()),\n",
    "    scores_df[\"rating\"].cast(IntegerType())\n",
    ")\n",
    "scores_df.show(5)"
   ]
  },
  {
   "cell_type": "markdown",
   "id": "78e5667e-e8d7-49d8-968a-2ef3eaf7a39f",
   "metadata": {},
   "source": [
    "### Calculate average embedding per user"
   ]
  },
  {
   "cell_type": "code",
   "execution_count": 8,
   "id": "682596ab-7084-46a4-a06a-ad1781010d80",
   "metadata": {},
   "outputs": [
    {
     "name": "stdout",
     "output_type": "stream",
     "text": [
      "+-------+--------------------+\n",
      "|user_id|    synopsis_emb_agr|\n",
      "+-------+--------------------+\n",
      "|   1342|[-0.0619223169785...|\n",
      "|   1580|[-0.0579523185087...|\n",
      "|   1591|[-0.0421952999553...|\n",
      "|   1645|[-0.0551495003070...|\n",
      "|   1829|[-0.0548918120061...|\n",
      "+-------+--------------------+\n",
      "only showing top 5 rows\n",
      "\n"
     ]
    }
   ],
   "source": [
    "# join tables\n",
    "user_df = synopsis_df.join(scores_df, \"anime_id\")\n",
    "\n",
    "# split array\n",
    "emb_size = user_df.selectExpr(\"max(size(synopsis_emb))\").collect()[0][0]\n",
    "col_names = []\n",
    "for i in range(emb_size):\n",
    "    col_name = f\"synopsis_emb_{i}\"\n",
    "    col_names.append(col_name)\n",
    "    user_df = user_df.withColumn(col_name, col(\"synopsis_emb\").getItem(i))\n",
    "user_df.drop('synopsis_emb')\n",
    "\n",
    "# average features\n",
    "user_df = user_df.groupBy(\"user_id\").agg(*[avg(col_name).alias(col_name) for col_name in col_names])\n",
    "\n",
    "# collect array\n",
    "assembler = VectorAssembler(inputCols=col_names, outputCol=\"synopsis_emb_agr\")\n",
    "user_df = assembler.transform(user_df)\n",
    "user_df = user_df.drop(*col_names)\n",
    "\n",
    "user_df.show(5)"
   ]
  },
  {
   "cell_type": "markdown",
   "id": "8752e79a-1644-4867-b6f3-6bd8ca363a8a",
   "metadata": {},
   "source": [
    "### Save user embeddings as json"
   ]
  },
  {
   "cell_type": "code",
   "execution_count": null,
   "id": "135d65cc-4737-40da-835d-aed77ede23b4",
   "metadata": {},
   "outputs": [],
   "source": [
    "user_df.write.parquet(\"/user/team20/project/models/model2.parquet\")"
   ]
  },
  {
   "cell_type": "code",
   "execution_count": 30,
   "id": "dee7e98d-058a-4934-ae47-e4d4926af04e",
   "metadata": {},
   "outputs": [
    {
     "data": {
      "text/plain": [
       "214409"
      ]
     },
     "execution_count": 30,
     "metadata": {},
     "output_type": "execute_result"
    }
   ],
   "source": [
    "user_df.count()"
   ]
  },
  {
   "cell_type": "markdown",
   "id": "c2330bfe-9ea9-4dbc-8623-1a869e60914f",
   "metadata": {},
   "source": [
    "## Test"
   ]
  },
  {
   "cell_type": "markdown",
   "id": "4452c705-9bf4-41ac-9d3e-b67eb939e50d",
   "metadata": {},
   "source": [
    "### Load model"
   ]
  },
  {
   "cell_type": "code",
   "execution_count": 19,
   "id": "462f621e-f5d6-475e-8f07-0b8ef18444c6",
   "metadata": {},
   "outputs": [
    {
     "name": "stdout",
     "output_type": "stream",
     "text": [
      "+-------+--------------------+\n",
      "|user_id|    synopsis_emb_agr|\n",
      "+-------+--------------------+\n",
      "|    595|[-0.0563016329524...|\n",
      "|   1188|[-0.0589005859801...|\n",
      "|   1524|[-0.0545205731571...|\n",
      "|   1792|[-0.0568325522336...|\n",
      "|   2285|[-0.0613093246374...|\n",
      "+-------+--------------------+\n",
      "only showing top 5 rows\n",
      "\n"
     ]
    }
   ],
   "source": [
    "user_df = spark.read.parquet(\"/user/team20/project/models/model2.parquet\")\n",
    "user_df.show(5)"
   ]
  },
  {
   "cell_type": "markdown",
   "id": "35650b96-954b-4eb2-b172-c809508322e4",
   "metadata": {},
   "source": [
    "### Load test data"
   ]
  },
  {
   "cell_type": "code",
   "execution_count": 20,
   "id": "4332d220-4d81-4bcf-921d-36c9acc2d666",
   "metadata": {},
   "outputs": [
    {
     "name": "stdout",
     "output_type": "stream",
     "text": [
      "+-------+--------+------+\n",
      "|user_id|anime_id|rating|\n",
      "+-------+--------+------+\n",
      "|      1|   32281|     9|\n",
      "|      1|   30276|     8|\n",
      "|      1|   25777|     8|\n",
      "|      1|   16870|     7|\n",
      "|      1|   16498|     9|\n",
      "+-------+--------+------+\n",
      "only showing top 5 rows\n",
      "\n"
     ]
    }
   ],
   "source": [
    "test_scores_df = spark.read.json(\"/user/team20/project/data/test.json\")\n",
    "test_scores_df = test_scores_df.select(\n",
    "    test_scores_df[\"user_id\"].cast(IntegerType()),\n",
    "    test_scores_df[\"anime_id\"].cast(IntegerType()),\n",
    "    test_scores_df[\"rating\"].cast(IntegerType())\n",
    ")\n",
    "# test_scores_df.groupBy(\"user_id\").agg(count('rating')).agg({'count(rating)': 'avg'}).show()\n",
    "test_scores_df.show(5)"
   ]
  },
  {
   "cell_type": "code",
   "execution_count": 21,
   "id": "d3749f42-319e-484a-bf69-97f7d0af6050",
   "metadata": {},
   "outputs": [
    {
     "name": "stdout",
     "output_type": "stream",
     "text": [
      "+-------+--------------------+\n",
      "|user_id|                  gt|\n",
      "+-------+--------------------+\n",
      "|      1|[1698, 849, 32281...|\n",
      "|      9|[317, 304, 392, 3...|\n",
      "|     20|[11061, 9253, 364...|\n",
      "|     47|[6351, 4059, 2963...|\n",
      "|     53|[48411, 42847, 41...|\n",
      "|     91|[995, 4053, 2752,...|\n",
      "|    108|[4177, 3572, 3588...|\n",
      "|    111|[529, 433, 390, 2...|\n",
      "|    112|[38524, 38000, 35...|\n",
      "|    120|[34096, 16498, 11...|\n",
      "|    133|[10408, 32729, 12...|\n",
      "|    157|[30276, 29803, 28...|\n",
      "|    163|[22199, 29809, 27...|\n",
      "|    169|[5060, 2685, 883,...|\n",
      "|    185|[8841, 667, 37435...|\n",
      "|    212|[2236, 1575, 1142...|\n",
      "|    222|[2025, 1818, 1726...|\n",
      "|    223|[1133, 1361, 1290...|\n",
      "|    224|[5258, 5114, 1818...|\n",
      "|    225|[19291, 17873, 17...|\n",
      "+-------+--------------------+\n",
      "only showing top 20 rows\n",
      "\n"
     ]
    }
   ],
   "source": [
    "test_rec_list = test_scores_df\\\n",
    "    .select(\"user_id\", \"anime_id\", \"rating\")\\\n",
    "    .orderBy(\"user_id\", \"rating\", ascending=False)\\\n",
    "    .groupBy(\"user_id\")\\\n",
    "    .agg(F.collect_list(\"anime_id\").alias(\"gt\"))\n",
    "test_rec_list.show()"
   ]
  },
  {
   "cell_type": "markdown",
   "id": "66fd5fc5-8f22-4849-b65d-4f0711db07d5",
   "metadata": {},
   "source": [
    "### Predict 100 anime titles for each user"
   ]
  },
  {
   "cell_type": "code",
   "execution_count": 22,
   "id": "d916592f-daec-456d-b198-7bfa3bbf6fbd",
   "metadata": {},
   "outputs": [],
   "source": [
    "train_rec_list = scores_df\\\n",
    "    .select(\"user_id\", \"anime_id\", \"rating\")\\\n",
    "    .orderBy(\"user_id\", \"rating\", ascending=False)\\\n",
    "    .groupBy(\"user_id\")\\\n",
    "    .agg(F.collect_list(\"anime_id\").alias(\"watched\"))\n",
    "train_rec_list = train_rec_list.join(\n",
    "    user_df,\n",
    "    train_rec_list['user_id'] == user_df['user_id'],\n",
    "    'inner'\n",
    ").drop(user_df.user_id)\n",
    "train_rec_list = train_rec_list\\\n",
    "    .withColumn('watched_count', size('watched'))\\\n",
    "    .orderBy('watched_count', ascending=False)\n",
    "# train_rec_list.show(5)"
   ]
  },
  {
   "cell_type": "code",
   "execution_count": 23,
   "id": "37e19e09-4751-4c53-9d7c-867f384a2159",
   "metadata": {},
   "outputs": [
    {
     "name": "stdout",
     "output_type": "stream",
     "text": [
      "+-------+--------------------+--------------------+-------------+\n",
      "|user_id|             watched|    synopsis_emb_agr|watched_count|\n",
      "+-------+--------------------+--------------------+-------------+\n",
      "|   6140|[28297, 24277, 23...|[-0.0573037852871...|         2091|\n",
      "|  97561|[16706, 12069, 11...|[-0.0554656165558...|         2023|\n",
      "|  65697|[32281, 32188, 32...|[-0.0558930915724...|         2014|\n",
      "|   2276|[13409, 11239, 11...|[-0.0552982030775...|         2008|\n",
      "| 520489|[11741, 4181, 290...|[-0.0525939000144...|         2005|\n",
      "| 114065|[24893, 19775, 16...|[-0.0540419392271...|         1993|\n",
      "|   6486|[7311, 4181, 4155...|[-0.0527306803572...|         1963|\n",
      "| 470233|[30746, 30355, 29...|[-0.0492090633745...|         1956|\n",
      "| 317041|[19647, 9741, 525...|[-0.0590964738393...|         1952|\n",
      "| 405721|[849, 8675, 6547,...|[-0.0581922416902...|         1930|\n",
      "|1130069|[27821, 25313, 15...|[-0.0606217867904...|         1887|\n",
      "| 312369|[7785, 820, 578, ...|[-0.0500940134263...|         1882|\n",
      "|   6264|[14813, 12477, 11...|[-0.0566664622855...|         1849|\n",
      "| 578453|[12069, 9931, 667...|[-0.0541862871679...|         1839|\n",
      "| 332815|[10721, 10092, 99...|[-0.0501963518495...|         1834|\n",
      "| 114861|[16592, 15177, 14...|[-0.0568004666003...|         1822|\n",
      "| 412925|[3297, 2164, 962,...|[-0.0549029514935...|         1820|\n",
      "| 106788|[30727, 30549, 30...|[-0.0573676546923...|         1819|\n",
      "|1189897|[35839, 35838, 35...|[-0.0581711313114...|         1814|\n",
      "|  50470|[13125, 5420, 112...|[-0.0558085712521...|         1799|\n",
      "+-------+--------------------+--------------------+-------------+\n",
      "only showing top 20 rows\n",
      "\n"
     ]
    }
   ],
   "source": [
    "# pick top n users based on number of scores to optimize test\n",
    "n = 1000\n",
    "top_n_user_embs = train_rec_list.limit(n)\n",
    "top_n_user_embs.show()"
   ]
  },
  {
   "cell_type": "code",
   "execution_count": 27,
   "id": "67ccd503-85dd-4aea-a0d7-d0a65f11b38e",
   "metadata": {},
   "outputs": [
    {
     "name": "stdout",
     "output_type": "stream",
     "text": [
      "+-------+--------------------+--------------------+-------------+--------+--------------------+\n",
      "|user_id|             watched|    synopsis_emb_agr|watched_count|anime_id|        synopsis_emb|\n",
      "+-------+--------------------+--------------------+-------------+--------+--------------------+\n",
      "|   6140|[28297, 24277, 23...|[-0.0573037852871...|         2091|   54252|[0.030607548, 0.0...|\n",
      "|  97561|[16706, 12069, 11...|[-0.0554656165558...|         2023|   54252|[0.030607548, 0.0...|\n",
      "|  65697|[32281, 32188, 32...|[-0.0558930915724...|         2014|   54252|[0.030607548, 0.0...|\n",
      "|   2276|[13409, 11239, 11...|[-0.0552982030775...|         2008|   54252|[0.030607548, 0.0...|\n",
      "| 520489|[11741, 4181, 290...|[-0.0525939000144...|         2005|   54252|[0.030607548, 0.0...|\n",
      "+-------+--------------------+--------------------+-------------+--------+--------------------+\n",
      "only showing top 5 rows\n",
      "\n"
     ]
    }
   ],
   "source": [
    "def cosine_similarity(v1, v2):\n",
    "    # assert False, f\"{type(v1)} {type(v2)}\"\n",
    "    a, b = np.array(v1), np.array(v2)\n",
    "    # check for nulls\n",
    "    if not np.any(a) or not np.any(b):\n",
    "        return -1.0\n",
    "\n",
    "    cos_sim = np.dot(a, b) / (np.linalg.norm(a) * np.linalg.norm(b))\n",
    "    return float(cos_sim)\n",
    "\n",
    "\n",
    "pred_df = top_n_user_embs.crossJoin(synopsis_df)\n",
    "# filter watched animes\n",
    "pred_df = pred_df.filter(~array_contains(pred_df.watched, pred_df.anime_id))\n",
    "pred_df.show(5)"
   ]
  },
  {
   "cell_type": "markdown",
   "id": "eeb30a76-f20b-4410-b6ba-64ede3662add",
   "metadata": {},
   "source": [
    "### Pipeline"
   ]
  },
  {
   "cell_type": "code",
   "execution_count": 30,
   "id": "6bc567d1-bdfe-40a0-b7de-af8b7bd2eecb",
   "metadata": {},
   "outputs": [
    {
     "name": "stdout",
     "output_type": "stream",
     "text": [
      "+-------+--------+----------+\n",
      "|user_id|anime_id|similarity|\n",
      "+-------+--------+----------+\n",
      "|   6140|   54252| 0.5956438|\n",
      "|  97561|   54252| 0.6026298|\n",
      "|  65697|   54252| 0.6132957|\n",
      "|   2276|   54252|0.60624796|\n",
      "| 520489|   54252|0.62517965|\n",
      "+-------+--------+----------+\n",
      "only showing top 5 rows\n",
      "\n"
     ]
    }
   ],
   "source": [
    "# find similarity\n",
    "cosine_similarity_udf = udf(cosine_similarity, FloatType())\n",
    "pred_df = pred_df.withColumn(\n",
    "    \"similarity\",\n",
    "    cosine_similarity_udf(pred_df.synopsis_emb_agr, pred_df.synopsis_emb)\n",
    ").select(\"user_id\", \"anime_id\", \"similarity\")\n",
    "pred_df.show(5)"
   ]
  },
  {
   "cell_type": "code",
   "execution_count": 31,
   "id": "cc7283b3-1104-440b-ab5d-083620fe5f2f",
   "metadata": {},
   "outputs": [
    {
     "data": {
      "text/plain": [
       "(100, 19892, 1829101)"
      ]
     },
     "execution_count": 31,
     "metadata": {},
     "output_type": "execute_result"
    }
   ],
   "source": [
    "top_n_user_embs.count(), synopsis_df.count(), pred_df.count()"
   ]
  },
  {
   "cell_type": "code",
   "execution_count": 32,
   "id": "a7740a82-5c4d-4462-90b5-09807cc96fa1",
   "metadata": {},
   "outputs": [
    {
     "name": "stdout",
     "output_type": "stream",
     "text": [
      "+-------+--------------------+\n",
      "|user_id|     recommendations|\n",
      "+-------+--------------------+\n",
      "|   6140|[51219, 1272, 345...|\n",
      "|  13101|[16245, 17539, 48...|\n",
      "|  20550|[51219, 34561, 24...|\n",
      "|  21941|[51219, 1272, 345...|\n",
      "|  25018|[51219, 1272, 240...|\n",
      "|  33547|[51219, 1272, 317...|\n",
      "|  50470|[51219, 1272, 317...|\n",
      "|  56107|[51219, 1272, 497...|\n",
      "|  58125|[51219, 1272, 982...|\n",
      "|  70886|[17539, 16245, 33...|\n",
      "+-------+--------------------+\n",
      "only showing top 10 rows\n",
      "\n"
     ]
    }
   ],
   "source": [
    "# pick top 50 anime for each user\n",
    "k = 50\n",
    "\n",
    "window_spec = Window.partitionBy(\"user_id\").orderBy(col(\"similarity\").desc())\n",
    "# Add a row number column to each partition\n",
    "pred_df_ranked = pred_df.withColumn(\"rank\", row_number().over(window_spec))\n",
    "# Filter out rows with row_number <= 10 to get the top 10 values for each user_id\n",
    "pred_df_top_k = pred_df_ranked.filter(col(\"rank\") <= k)\n",
    "pred_df_top_k = pred_df_top_k\\\n",
    "    .groupby('user_id')\\\n",
    "    .agg(F.collect_list(\"anime_id\").alias(\"recommendations\"))\n",
    "pred_df_top_k.show(10)"
   ]
  },
  {
   "cell_type": "markdown",
   "id": "0bfb7922-70a7-425c-87dd-4707e5bba9ab",
   "metadata": {},
   "source": [
    "### Evaluate"
   ]
  },
  {
   "cell_type": "code",
   "execution_count": 33,
   "id": "b41b4673-cf5d-48cb-956a-895fd8e2e68d",
   "metadata": {},
   "outputs": [
    {
     "name": "stdout",
     "output_type": "stream",
     "text": [
      "+-------+--------------------+--------------------+\n",
      "|user_id|                  gt|     recommendations|\n",
      "+-------+--------------------+--------------------+\n",
      "|   6140|[40028, 38524, 36...|[51219, 1272, 345...|\n",
      "|  13101|[43608, 37965, 32...|[16245, 17539, 48...|\n",
      "|  20550|[50265, 48583, 47...|[51219, 34561, 24...|\n",
      "|  21941|[51064, 50265, 49...|[51219, 1272, 345...|\n",
      "|  25018|[44087, 40716, 28...|[51219, 1272, 240...|\n",
      "|  33547|[33985, 32664, 31...|[51219, 1272, 317...|\n",
      "|  50470|[42203, 40815, 40...|[51219, 1272, 317...|\n",
      "|  56107|[34822, 52034, 50...|[51219, 1272, 497...|\n",
      "|  58125|[36720, 35330, 32...|[51219, 1272, 982...|\n",
      "|  70886|[32281, 28957, 24...|[17539, 16245, 33...|\n",
      "+-------+--------------------+--------------------+\n",
      "only showing top 10 rows\n",
      "\n"
     ]
    }
   ],
   "source": [
    "recommendations = test_rec_list.join(\n",
    "    pred_df_top_k,\n",
    "    test_rec_list.user_id == pred_df_top_k.user_id,\n",
    "    'inner'\n",
    ").drop(pred_df_top_k.user_id)\n",
    "recommendations.show(10)"
   ]
  },
  {
   "cell_type": "code",
   "execution_count": 35,
   "id": "e0ae079b-7e71-44ac-99fa-636f52148f21",
   "metadata": {},
   "outputs": [],
   "source": [
    "# save recommendations\n",
    "recommendations.write.parquet(\"/user/team20/project/output/model2_predictions\")"
   ]
  },
  {
   "cell_type": "code",
   "execution_count": 37,
   "id": "dca93a16-d6d6-449e-82fa-6f916b887044",
   "metadata": {},
   "outputs": [
    {
     "name": "stderr",
     "output_type": "stream",
     "text": [
      "/usr/local/lib/python3.6/site-packages/pyspark/sql/context.py:127: FutureWarning: Deprecated in 3.0.0. Use SparkSession.builder.getOrCreate() instead.\n",
      "  FutureWarning\n"
     ]
    },
    {
     "name": "stdout",
     "output_type": "stream",
     "text": [
      "+------------+---------+-----------+-----------+--------+-----------+\n",
      "|precision@10|recall@10|    ndcg@10|precision@5|recall@5|     ndcg@5|\n",
      "+------------+---------+-----------+-----------+--------+-----------+\n",
      "|       0.011|   0.0022|0.010751176|      0.014|  0.0014|0.012328672|\n",
      "+------------+---------+-----------+-----------+--------+-----------+\n",
      "\n"
     ]
    }
   ],
   "source": [
    "# Define the schema for the DataFrame\n",
    "schema = StructType([\n",
    "    StructField(\"model\", StringType(), True),\n",
    "    StructField(\"precision@10\", FloatType(), True),\n",
    "    StructField(\"recall@10\", FloatType(), True),\n",
    "    StructField(\"ndcg@10\", FloatType(), True),\n",
    "    StructField(\"precision@5\", FloatType(), True),\n",
    "    StructField(\"recall@5\", FloatType(), True),\n",
    "    StructField(\"ndcg@5\", FloatType(), True)\n",
    "])\n",
    "\n",
    "metrics = RankingMetrics(recommendations.select(\"gt\", \"recommendations\").rdd)\n",
    "# Create a list of tuples with sample data\n",
    "data = [(\n",
    "    \"avg_synopsis_emb\",\n",
    "    metrics.precisionAt(10),\n",
    "    metrics.recallAt(10),\n",
    "    metrics.ndcgAt(10),\n",
    "    metrics.precisionAt(5),\n",
    "    metrics.recallAt(5),\n",
    "    metrics.ndcgAt(5)\n",
    ")]\n",
    "\n",
    "# Create a DataFrame with the defined schema and data\n",
    "df = spark.createDataFrame(data, schema)\n",
    "df.show()"
   ]
  },
  {
   "cell_type": "code",
   "execution_count": 40,
   "id": "0662d3f5-4868-4197-9676-5f8d001770e7",
   "metadata": {},
   "outputs": [],
   "source": [
    "df.write.parquet(\"/user/team20/project/output/evaluation\", mode=\"append\")"
   ]
  },
  {
   "cell_type": "code",
   "execution_count": 50,
   "id": "202bf4d3-19f9-45d5-8915-8dcacc3cccb7",
   "metadata": {},
   "outputs": [],
   "source": [
    "with open(\"/home/team20/team20/bigdata-final-project-iu-2024.git/output/evaluation.csv\", \"a\") as f:\n",
    "    f.write(','.join([str(i) for i in data[0]]))\n",
    "    f.write(\"\\n\")"
   ]
  },
  {
   "cell_type": "code",
   "execution_count": null,
   "id": "2d2cd146-8af1-4f05-bc5f-23a43c87ad5f",
   "metadata": {},
   "outputs": [],
   "source": []
  }
 ],
 "metadata": {
  "kernelspec": {
   "display_name": "Pyspark 3",
   "language": "python",
   "name": "python3"
  },
  "language_info": {
   "codemirror_mode": {
    "name": "ipython",
    "version": 3
   },
   "file_extension": ".py",
   "mimetype": "text/x-python",
   "name": "python",
   "nbconvert_exporter": "python",
   "pygments_lexer": "ipython3",
   "version": "3.6.8"
  }
 },
 "nbformat": 4,
 "nbformat_minor": 5
}
